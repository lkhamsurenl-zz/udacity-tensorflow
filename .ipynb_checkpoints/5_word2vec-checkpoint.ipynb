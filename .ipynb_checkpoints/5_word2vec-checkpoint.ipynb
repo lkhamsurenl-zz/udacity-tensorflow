{
 "cells": [
  {
   "cell_type": "markdown",
   "metadata": {
    "colab_type": "text",
    "id": "D7tqLMoKF6uq"
   },
   "source": [
    "Deep Learning\n",
    "=============\n",
    "\n",
    "Assignment 5\n",
    "------------\n",
    "\n",
    "The goal of this assignment is to train a skip-gram model over [Text8](http://mattmahoney.net/dc/textdata) data."
   ]
  },
  {
   "cell_type": "code",
   "execution_count": 1,
   "metadata": {
    "cellView": "both",
    "colab": {
     "autoexec": {
      "startup": false,
      "wait_interval": 0
     }
    },
    "colab_type": "code",
    "collapsed": true,
    "id": "0K1ZyLn04QZf"
   },
   "outputs": [],
   "source": [
    "# These are all the modules we'll be using later. Make sure you can import them\n",
    "# before proceeding further.\n",
    "import collections\n",
    "import math\n",
    "import numpy as np\n",
    "import os\n",
    "import random\n",
    "import tensorflow as tf\n",
    "import urllib\n",
    "import zipfile\n",
    "from matplotlib import pylab\n",
    "from sklearn.manifold import TSNE"
   ]
  },
  {
   "cell_type": "markdown",
   "metadata": {
    "colab_type": "text",
    "id": "aCjPJE944bkV"
   },
   "source": [
    "Download the data from the source website if necessary."
   ]
  },
  {
   "cell_type": "code",
   "execution_count": 2,
   "metadata": {
    "cellView": "both",
    "colab": {
     "autoexec": {
      "startup": false,
      "wait_interval": 0
     },
     "output_extras": [
      {
       "item_id": 1
      }
     ]
    },
    "colab_type": "code",
    "collapsed": false,
    "executionInfo": {
     "elapsed": 14640,
     "status": "ok",
     "timestamp": 1445964482948,
     "user": {
      "color": "#1FA15D",
      "displayName": "Vincent Vanhoucke",
      "isAnonymous": false,
      "isMe": true,
      "permissionId": "05076109866853157986",
      "photoUrl": "//lh6.googleusercontent.com/-cCJa7dTDcgQ/AAAAAAAAAAI/AAAAAAAACgw/r2EZ_8oYer4/s50-c-k-no/photo.jpg",
      "sessionId": "2f1ffade4c9f20de",
      "userId": "102167687554210253930"
     },
     "user_tz": 420
    },
    "id": "RJ-o3UBUFtCw",
    "outputId": "c4ec222c-80b5-4298-e635-93ca9f79c3b7"
   },
   "outputs": [
    {
     "name": "stdout",
     "output_type": "stream",
     "text": [
      "Found and verified text8.zip\n"
     ]
    }
   ],
   "source": [
    "url = 'http://mattmahoney.net/dc/'\n",
    "\n",
    "def maybe_download(filename, expected_bytes):\n",
    "  \"\"\"Download a file if not present, and make sure it's the right size.\"\"\"\n",
    "  if not os.path.exists(filename):\n",
    "    filename, _ = urllib.urlretrieve(url + filename, filename)\n",
    "  statinfo = os.stat(filename)\n",
    "  if statinfo.st_size == expected_bytes:\n",
    "    print 'Found and verified', filename\n",
    "  else:\n",
    "    print statinfo.st_size\n",
    "    raise Exception(\n",
    "      'Failed to verify ' + filename + '. Can you get to it with a browser?')\n",
    "  return filename\n",
    "\n",
    "filename = maybe_download('text8.zip', 31344016)"
   ]
  },
  {
   "cell_type": "markdown",
   "metadata": {
    "colab_type": "text",
    "id": "Zqz3XiqI4mZT"
   },
   "source": [
    "Read the data into a string."
   ]
  },
  {
   "cell_type": "code",
   "execution_count": 3,
   "metadata": {
    "cellView": "both",
    "colab": {
     "autoexec": {
      "startup": false,
      "wait_interval": 0
     },
     "output_extras": [
      {
       "item_id": 1
      }
     ]
    },
    "colab_type": "code",
    "collapsed": false,
    "executionInfo": {
     "elapsed": 28844,
     "status": "ok",
     "timestamp": 1445964497165,
     "user": {
      "color": "#1FA15D",
      "displayName": "Vincent Vanhoucke",
      "isAnonymous": false,
      "isMe": true,
      "permissionId": "05076109866853157986",
      "photoUrl": "//lh6.googleusercontent.com/-cCJa7dTDcgQ/AAAAAAAAAAI/AAAAAAAACgw/r2EZ_8oYer4/s50-c-k-no/photo.jpg",
      "sessionId": "2f1ffade4c9f20de",
      "userId": "102167687554210253930"
     },
     "user_tz": 420
    },
    "id": "Mvf09fjugFU_",
    "outputId": "e3a928b4-1645-4fe8-be17-fcf47de5716d"
   },
   "outputs": [
    {
     "name": "stdout",
     "output_type": "stream",
     "text": [
      "Data size 17005207\n"
     ]
    }
   ],
   "source": [
    "def read_data(filename):\n",
    "  f = zipfile.ZipFile(filename)\n",
    "  for name in f.namelist():\n",
    "    return f.read(name).split()\n",
    "  f.close()\n",
    "  \n",
    "words = read_data(filename)\n",
    "print 'Data size', len(words)"
   ]
  },
  {
   "cell_type": "markdown",
   "metadata": {
    "colab_type": "text",
    "id": "Zdw6i4F8glpp"
   },
   "source": [
    "Build the dictionary and replace rare words with UNK token."
   ]
  },
  {
   "cell_type": "code",
   "execution_count": 4,
   "metadata": {
    "cellView": "both",
    "colab": {
     "autoexec": {
      "startup": false,
      "wait_interval": 0
     },
     "output_extras": [
      {
       "item_id": 1
      }
     ]
    },
    "colab_type": "code",
    "collapsed": false,
    "executionInfo": {
     "elapsed": 28849,
     "status": "ok",
     "timestamp": 1445964497178,
     "user": {
      "color": "#1FA15D",
      "displayName": "Vincent Vanhoucke",
      "isAnonymous": false,
      "isMe": true,
      "permissionId": "05076109866853157986",
      "photoUrl": "//lh6.googleusercontent.com/-cCJa7dTDcgQ/AAAAAAAAAAI/AAAAAAAACgw/r2EZ_8oYer4/s50-c-k-no/photo.jpg",
      "sessionId": "2f1ffade4c9f20de",
      "userId": "102167687554210253930"
     },
     "user_tz": 420
    },
    "id": "gAL1EECXeZsD",
    "outputId": "3fb4ecd1-df67-44b6-a2dc-2291730970b2"
   },
   "outputs": [
    {
     "name": "stdout",
     "output_type": "stream",
     "text": [
      "Most common words (+UNK) [['UNK', 418391], ('the', 1061396), ('of', 593677), ('and', 416629), ('one', 411764)]\n",
      "Sample data [5239, 3084, 12, 6, 195, 2, 3137, 46, 59, 156]\n"
     ]
    }
   ],
   "source": [
    "vocabulary_size = 50000\n",
    "\n",
    "def build_dataset(words):\n",
    "  count = [['UNK', -1]]\n",
    "  count.extend(collections.Counter(words).most_common(vocabulary_size - 1))\n",
    "  dictionary = dict()\n",
    "  for word, _ in count:\n",
    "    dictionary[word] = len(dictionary)\n",
    "  data = list()\n",
    "  unk_count = 0\n",
    "  for word in words:\n",
    "    if word in dictionary:\n",
    "      index = dictionary[word]\n",
    "    else:\n",
    "      index = 0  # dictionary['UNK']\n",
    "      unk_count = unk_count + 1\n",
    "    data.append(index)\n",
    "  count[0][1] = unk_count\n",
    "  reverse_dictionary = dict(zip(dictionary.values(), dictionary.keys())) \n",
    "  return data, count, dictionary, reverse_dictionary\n",
    "\n",
    "data, count, dictionary, reverse_dictionary = build_dataset(words)\n",
    "print 'Most common words (+UNK)', count[:5]\n",
    "print 'Sample data', data[:10]\n",
    "del words  # Hint to reduce memory."
   ]
  },
  {
   "cell_type": "markdown",
   "metadata": {
    "colab_type": "text",
    "id": "lFwoyygOmWsL"
   },
   "source": [
    "Function to generate a training batch for the skip-gram model."
   ]
  },
  {
   "cell_type": "code",
   "execution_count": 5,
   "metadata": {
    "cellView": "both",
    "colab": {
     "autoexec": {
      "startup": false,
      "wait_interval": 0
     },
     "output_extras": [
      {
       "item_id": 1
      }
     ]
    },
    "colab_type": "code",
    "collapsed": false,
    "executionInfo": {
     "elapsed": 113,
     "status": "ok",
     "timestamp": 1445964901989,
     "user": {
      "color": "#1FA15D",
      "displayName": "Vincent Vanhoucke",
      "isAnonymous": false,
      "isMe": true,
      "permissionId": "05076109866853157986",
      "photoUrl": "//lh6.googleusercontent.com/-cCJa7dTDcgQ/AAAAAAAAAAI/AAAAAAAACgw/r2EZ_8oYer4/s50-c-k-no/photo.jpg",
      "sessionId": "2f1ffade4c9f20de",
      "userId": "102167687554210253930"
     },
     "user_tz": 420
    },
    "id": "w9APjA-zmfjV",
    "outputId": "67cccb02-cdaf-4e47-d489-43bcc8d57bb8"
   },
   "outputs": [
    {
     "name": "stdout",
     "output_type": "stream",
     "text": [
      "3084 -> 5239\n",
      "originated -> anarchism\n",
      "3084 -> 12\n",
      "originated -> as\n",
      "12 -> 6\n",
      "as -> a\n",
      "12 -> 3084\n",
      "as -> originated\n",
      "6 -> 12\n",
      "a -> as\n",
      "6 -> 195\n",
      "a -> term\n",
      "195 -> 2\n",
      "term -> of\n",
      "195 -> 6\n",
      "term -> a\n"
     ]
    }
   ],
   "source": [
    "data_index = 0\n",
    "\n",
    "def generate_batch(batch_size, num_skips, skip_window):\n",
    "  global data_index\n",
    "  assert batch_size % num_skips == 0\n",
    "  assert num_skips <= 2 * skip_window\n",
    "  batch = np.ndarray(shape=(batch_size), dtype=np.int32)\n",
    "  labels = np.ndarray(shape=(batch_size, 1), dtype=np.int32)\n",
    "  span = 2 * skip_window + 1 # [ skip_window target skip_window ]\n",
    "  buffer = collections.deque(maxlen=span)\n",
    "  for _ in range(span):\n",
    "    buffer.append(data[data_index])\n",
    "    data_index = (data_index + 1) % len(data)\n",
    "  for i in range(batch_size / num_skips):\n",
    "    target = skip_window  # target label at the center of the buffer\n",
    "    targets_to_avoid = [ skip_window ]\n",
    "    for j in range(num_skips):\n",
    "      while target in targets_to_avoid:\n",
    "        target = random.randint(0, span - 1)\n",
    "      targets_to_avoid.append(target)\n",
    "      batch[i * num_skips + j] = buffer[skip_window]\n",
    "      labels[i * num_skips + j, 0] = buffer[target]\n",
    "    buffer.append(data[data_index])\n",
    "    data_index = (data_index + 1) % len(data)\n",
    "  return batch, labels\n",
    "\n",
    "batch, labels = generate_batch(batch_size=8, num_skips=2, skip_window=1)\n",
    "for i in range(8):\n",
    "  print batch[i], '->', labels[i, 0]\n",
    "  print reverse_dictionary[batch[i]], '->', reverse_dictionary[labels[i, 0]]"
   ]
  },
  {
   "cell_type": "markdown",
   "metadata": {
    "colab_type": "text",
    "id": "Ofd1MbBuwiva"
   },
   "source": [
    "Train a skip-gram model."
   ]
  },
  {
   "cell_type": "code",
   "execution_count": 6,
   "metadata": {
    "cellView": "both",
    "colab": {
     "autoexec": {
      "startup": false,
      "wait_interval": 0
     }
    },
    "colab_type": "code",
    "collapsed": true,
    "id": "8pQKsV4Vwlzy"
   },
   "outputs": [],
   "source": [
    "batch_size = 128\n",
    "embedding_size = 128 # Dimension of the embedding vector.\n",
    "skip_window = 1 # How many words to consider left and right.\n",
    "num_skips = 2 # How many times to reuse an input to generate a label.\n",
    "# We pick a random validation set to sample nearest neighbors. here we limit the\n",
    "# validation samples to the words that have a low numeric ID, which by\n",
    "# construction are also the most frequent. \n",
    "valid_size = 16 # Random set of words to evaluate similarity on.\n",
    "valid_window = 100 # Only pick dev samples in the head of the distribution.\n",
    "valid_examples = np.array(random.sample(xrange(valid_window), valid_size))\n",
    "num_sampled = 64 # Number of negative examples to sample.\n",
    "\n",
    "graph = tf.Graph()\n",
    "\n",
    "with graph.as_default():\n",
    "\n",
    "  # Input data.\n",
    "  train_dataset = tf.placeholder(tf.int32, shape=[batch_size])\n",
    "  train_labels = tf.placeholder(tf.int32, shape=[batch_size, 1])\n",
    "  valid_dataset = tf.constant(valid_examples, dtype=tf.int32)\n",
    "  \n",
    "  # Variables.\n",
    "  embeddings = tf.Variable(\n",
    "    tf.random_uniform([vocabulary_size, embedding_size], -1.0, 1.0))\n",
    "  softmax_weights = tf.Variable(\n",
    "    tf.truncated_normal([vocabulary_size, embedding_size],\n",
    "                         stddev=1.0 / math.sqrt(embedding_size)))\n",
    "  softmax_biases = tf.Variable(tf.zeros([vocabulary_size]))\n",
    "  \n",
    "  # Model.\n",
    "  # Look up embeddings for inputs.\n",
    "  embed = tf.nn.embedding_lookup(embeddings, train_dataset)\n",
    "  # Compute the softmax loss, using a sample of the negative labels each time.\n",
    "  loss = tf.reduce_mean(\n",
    "    tf.nn.sampled_softmax_loss(softmax_weights, softmax_biases, embed,\n",
    "                               train_labels, num_sampled, vocabulary_size))\n",
    "\n",
    "  # Optimizer.\n",
    "  optimizer = tf.train.AdagradOptimizer(1.0).minimize(loss)\n",
    "  \n",
    "  # Compute the similarity between minibatch examples and all embeddings.\n",
    "  # We use the cosine distance:\n",
    "  norm = tf.sqrt(tf.reduce_sum(tf.square(embeddings), 1, keep_dims=True))\n",
    "  normalized_embeddings = embeddings / norm\n",
    "  valid_embeddings = tf.nn.embedding_lookup(\n",
    "    normalized_embeddings, valid_dataset)\n",
    "  similarity = tf.matmul(valid_embeddings, tf.transpose(normalized_embeddings))"
   ]
  },
  {
   "cell_type": "code",
   "execution_count": 9,
   "metadata": {
    "cellView": "both",
    "colab": {
     "autoexec": {
      "startup": false,
      "wait_interval": 0
     },
     "output_extras": [
      {
       "item_id": 23
      },
      {
       "item_id": 48
      },
      {
       "item_id": 61
      }
     ]
    },
    "colab_type": "code",
    "collapsed": false,
    "executionInfo": {
     "elapsed": 436189,
     "status": "ok",
     "timestamp": 1445965429787,
     "user": {
      "color": "#1FA15D",
      "displayName": "Vincent Vanhoucke",
      "isAnonymous": false,
      "isMe": true,
      "permissionId": "05076109866853157986",
      "photoUrl": "//lh6.googleusercontent.com/-cCJa7dTDcgQ/AAAAAAAAAAI/AAAAAAAACgw/r2EZ_8oYer4/s50-c-k-no/photo.jpg",
      "sessionId": "2f1ffade4c9f20de",
      "userId": "102167687554210253930"
     },
     "user_tz": 420
    },
    "id": "1bQFGceBxrWW",
    "outputId": "5ebd6d9a-33c6-4bcd-bf6d-252b0b6055e4"
   },
   "outputs": [
    {
     "name": "stdout",
     "output_type": "stream",
     "text": [
      "Initialized\n",
      "Average loss at step 0 : 8.08475112915\n",
      "Nearest to system: westland, bootlegged, dx, fruitful, scalars, intern, sahib, richmond,\n",
      "Nearest to other: inexperienced, narcotic, saxo, decoration, rugova, closest, tubules, pouring,\n",
      "Nearest to so: friend, cheering, marshallese, bes, tinctures, congratulate, reefs, intercollegiate,\n",
      "Nearest to between: typefaces, ld, dorpat, pen, automator, posted, nasi, enlist,\n",
      "Nearest to as: tines, diamagnets, sines, blaming, fascinating, marched, realists, accompaniments,\n",
      "Nearest to over: trader, lder, subregions, sandman, bru, hans, intrepid, vivekananda,\n",
      "Nearest to such: sacerdotal, feasts, defenses, brushing, hawkwind, episcopal, depressive, turnout,\n",
      "Nearest to its: terrorism, agar, stjepan, mamluks, exogenous, loanwords, boo, gerson,\n",
      "Nearest to but: clicks, secluded, almeida, pharmacy, criteria, peroxides, intends, hanssen,\n",
      "Nearest to up: ceti, start, parity, sverdlovsk, amelia, shabbat, gdr, which,\n",
      "Nearest to for: hurtful, fn, fernando, perpetrator, sept, remini, mules, tone,\n",
      "Nearest to states: appropriately, khaldun, mahler, combatants, dyes, acapulco, collide, exited,\n",
      "Nearest to has: disputation, vc, mary, quakers, moody, stamens, barbados, legalize,\n",
      "Nearest to would: doctorow, eloquence, librivox, cartilage, icarus, inextricably, marrow, counterfactual,\n",
      "Nearest to is: suspending, tsar, optimize, larissa, clone, months, agouti, certifying,\n",
      "Nearest to one: remotely, mont, confocal, fondation, near, resonances, bju, gaston,\n",
      "Average loss at step 2000 : 4.36019576561\n",
      "Average loss at step 4000 : 3.87284001637\n",
      "Average loss at step 6000 : 3.78981062269\n",
      "Average loss at step 8000 : 3.68409148943\n",
      "Average loss at step 10000 : 3.61235353565\n",
      "Nearest to system: files, sahib, intern, premium, ecological, bootlegged, westland, fruitful,\n",
      "Nearest to other: political, dc, pouring, woz, liberalize, leaders, fsm, ruthlessness,\n",
      "Nearest to so: marshallese, winfield, bes, ribbentrop, successive, mel, jstor, handkerchief,\n",
      "Nearest to between: with, typefaces, judaism, circulate, repairs, on, pen, dorpat,\n",
      "Nearest to as: holy, pinto, colonisation, umayyads, anzac, hexokinase, tardive, by,\n",
      "Nearest to over: trader, intrepid, hans, saltzer, overflow, haze, imperfectly, vivekananda,\n",
      "Nearest to such: depressive, known, coherent, sacerdotal, centum, hiroshi, well, circumscribed,\n",
      "Nearest to its: the, his, their, untold, terrorism, loanwords, victor, amassing,\n",
      "Nearest to but: montoya, they, clicks, magicians, dismantle, ibn, diagonals, procedural,\n",
      "Nearest to up: parity, counseling, hamburger, start, lucy, transatlantic, bodybuilders, camelcase,\n",
      "Nearest to for: with, of, upc, from, bodkin, deva, mules, in,\n",
      "Nearest to states: dyes, appropriately, conjugation, kuti, bankhead, outta, alexei, classless,\n",
      "Nearest to has: had, was, is, have, booklets, disputation, coca, overt,\n",
      "Nearest to would: can, may, could, intervenes, racial, plate, inextricably, parsley,\n",
      "Nearest to is: was, are, has, be, though, sexton, abolition, imax,\n",
      "Nearest to one: two, six, three, seven, eight, five, four, resonant,\n",
      "Average loss at step 12000 : 3.60804401076\n",
      "Average loss at step 14000 : 3.57479313987\n",
      "Average loss at step 16000 : 3.4060409254\n",
      "Average loss at step 18000 : 3.46057411993\n",
      "Average loss at step 20000 : 3.53657105893\n",
      "Nearest to system: files, ufos, carp, kernighan, bootlegged, premium, intern, prescribed,\n",
      "Nearest to other: many, different, political, some, these, leaders, bront, pouring,\n",
      "Nearest to so: marshallese, successive, winfield, musically, recognizes, energetic, ribbentrop, ellefson,\n",
      "Nearest to between: with, in, circulate, automator, repairs, precise, predecessor, captured,\n",
      "Nearest to as: holy, sussman, tardive, umayyads, memex, softening, starring, invalidated,\n",
      "Nearest to over: police, intrepid, haze, saltzer, liver, imperfectly, trader, institution,\n",
      "Nearest to such: well, known, coherent, many, depressive, hiroshi, galway, unrelated,\n",
      "Nearest to its: their, his, the, aircrew, questionnaire, petrified, questions, untold,\n",
      "Nearest to but: however, would, is, which, and, they, was, could,\n",
      "Nearest to up: parity, yu, lucy, their, him, hainan, camelcase, them,\n",
      "Nearest to for: in, of, using, and, by, from, with, panentheism,\n",
      "Nearest to states: conjugation, dyes, contractile, outsold, exited, appropriately, gallant, confederation,\n",
      "Nearest to has: had, have, is, was, coca, booklets, but, overt,\n",
      "Nearest to would: can, could, may, will, must, might, should, but,\n",
      "Nearest to is: was, has, are, be, but, were, became, makes,\n",
      "Nearest to one: two, four, seven, three, six, eight, five, nine,\n",
      "Average loss at step 22000 : 3.50454397103\n",
      "Average loss at step 24000 : 3.48749600613\n",
      "Average loss at step 26000 : 3.48189519262\n",
      "Average loss at step 28000 : 3.48294671905\n",
      "Average loss at step 30000 : 3.5029895075\n",
      "Nearest to system: systems, files, ufos, disappeared, pym, prescribed, kernighan, carp,\n",
      "Nearest to other: different, many, some, various, these, including, such, hymnody,\n",
      "Nearest to so: marshallese, musically, osprey, successive, bes, liberalization, established, oic,\n",
      "Nearest to between: in, with, repairs, precise, predecessor, quin, acrimonious, circulate,\n",
      "Nearest to as: became, holy, uncreated, bomb, anzac, bittorrent, umayyads, with,\n",
      "Nearest to over: police, intrepid, mauchly, haze, stead, beasts, liver, darth,\n",
      "Nearest to such: well, known, unrelated, galway, many, these, hiroshi, coherent,\n",
      "Nearest to its: their, his, the, her, aggadah, immigrants, proportion, surviving,\n",
      "Nearest to but: however, when, although, which, peaceful, that, and, while,\n",
      "Nearest to up: parity, him, kids, counseling, them, lanthanum, camelcase, lucy,\n",
      "Nearest to for: mules, from, pinnacles, after, neoplatonist, with, wulf, of,\n",
      "Nearest to states: exited, contractile, cranberries, outsold, conjugation, nations, bei, rollins,\n",
      "Nearest to has: had, have, is, was, coca, disputation, totally, lock,\n",
      "Nearest to would: can, could, may, will, must, might, should, cannot,\n",
      "Nearest to is: was, has, are, became, were, while, be, makes,\n",
      "Nearest to one: two, four, seven, six, eight, five, nine, three,\n",
      "Average loss at step 32000 : 3.4998734045\n",
      "Average loss at step 34000 : 3.49375366318\n",
      "Average loss at step 36000 : 3.45826581204\n",
      "Average loss at step 38000 : 3.30134839147\n",
      "Average loss at step 40000 : 3.42796513498\n",
      "Nearest to system: systems, files, ufos, pym, disappeared, kshatriya, carp, westland,\n",
      "Nearest to other: different, various, some, many, including, electric, these, such,\n",
      "Nearest to so: marshallese, sarajevo, inserted, it, narrative, mel, osprey, newsletters,\n",
      "Nearest to between: with, repairs, predecessor, automator, circulate, through, acrimonious, customer,\n",
      "Nearest to as: editorial, umayyads, adulterated, bomb, tines, heralded, unskilled, manslaughter,\n",
      "Nearest to over: stead, brennan, mauchly, beasts, intrepid, police, haze, imperfectly,\n",
      "Nearest to such: well, known, these, hiroshi, many, galway, loya, unrelated,\n",
      "Nearest to its: their, his, the, her, jair, untold, impassioned, amassing,\n",
      "Nearest to but: however, and, although, while, where, though, it, lately,\n",
      "Nearest to up: them, out, him, parity, kids, portrayed, camelcase, targaryen,\n",
      "Nearest to for: in, from, rupture, upc, or, using, spilling, deva,\n",
      "Nearest to states: nations, kingdom, exited, contractile, countries, classless, cranberries, rollins,\n",
      "Nearest to has: had, have, was, is, inconceivable, totally, yeager, lock,\n",
      "Nearest to would: could, will, can, may, might, should, must, did,\n",
      "Nearest to is: was, has, are, statutory, be, gravitons, instalments, neill,\n",
      "Nearest to one: seven, six, four, two, eight, three, nine, five,\n",
      "Average loss at step 42000 : 3.43614456868\n",
      "Average loss at step 44000 : 3.45425935811\n",
      "Average loss at step 46000 : 3.45112814957\n",
      "Average loss at step 48000 : 3.35324304026\n",
      "Average loss at step 50000 : 3.37966433227\n",
      "Nearest to system: systems, files, ufos, loeb, pym, carp, pirated, disappeared,\n",
      "Nearest to other: various, different, many, some, including, these, iho, trick,\n",
      "Nearest to so: successive, marshallese, shall, disenfranchised, scalability, faster, osprey, namek,\n",
      "Nearest to between: with, automator, customer, through, circulate, acrimonious, precise, in,\n",
      "Nearest to as: umayyads, knocks, editorial, relieved, holy, starbuck, became, by,\n",
      "Nearest to over: stead, blitz, beasts, about, secant, imperfectly, silva, through,\n",
      "Nearest to such: well, known, these, hiroshi, loya, many, unrelated, galway,\n",
      "Nearest to its: their, his, the, her, your, questionnaire, untold, amassing,\n",
      "Nearest to but: however, although, while, when, and, though, where, it,\n",
      "Nearest to up: out, them, him, camelcase, off, kids, back, parity,\n",
      "Nearest to for: while, augmentation, howstuffworks, fn, unavoidable, spilling, intercession, mules,\n",
      "Nearest to states: nations, kingdom, contractile, exited, rollins, cranberries, bankhead, classless,\n",
      "Nearest to has: had, have, is, was, yeager, since, makes, popper,\n",
      "Nearest to would: will, could, can, may, should, might, must, cannot,\n",
      "Nearest to is: was, has, are, became, makes, becomes, terraforming, were,\n",
      "Nearest to one: two, eight, six, seven, four, three, five, nine,\n",
      "Average loss at step 52000 : 3.4407548247\n",
      "Average loss at step 54000 : 3.42735504407\n",
      "Average loss at step 56000 : 3.44504051447\n",
      "Average loss at step 58000 : 3.39453982443\n",
      "Average loss at step 60000 : 3.38821382651\n",
      "Nearest to system: systems, files, ufos, text, program, network, majority, gertrude,\n",
      "Nearest to other: various, many, different, several, including, some, older, these,\n",
      "Nearest to so: suggests, namek, preston, marshallese, fairly, osprey, phrygia, he,\n",
      "Nearest to between: with, in, among, durians, acrimonious, circulate, automator, through,\n",
      "Nearest to as: umayyads, bomb, instalments, informatics, utopian, limerick, starbuck, nisan,\n",
      "Nearest to over: across, through, beasts, around, about, secant, silva, stead,\n",
      "Nearest to such: well, known, these, many, certain, regarded, unrelated, galway,\n",
      "Nearest to its: their, his, the, her, whose, your, transylvania, focused,\n",
      "Nearest to but: however, although, while, and, than, though, amherst, when,\n",
      "Nearest to up: out, them, him, camelcase, off, parity, lucy, kids,\n",
      "Nearest to for: including, unavoidable, howstuffworks, inhabit, upc, mno, of, dao,\n",
      "Nearest to states: nations, kingdom, countries, exited, potato, forces, cranberries, prsc,\n",
      "Nearest to has: had, have, was, is, having, yeager, inconceivable, suffered,\n",
      "Nearest to would: will, could, may, can, must, might, should, cannot,\n",
      "Nearest to is: was, are, be, has, although, includes, becomes, though,\n",
      "Nearest to one: eight, six, two, seven, four, five, three, nine,\n",
      "Average loss at step 62000 : 3.23700884563\n",
      "Average loss at step 64000 : 3.25608495831\n",
      "Average loss at step 66000 : 3.40376516908\n",
      "Average loss at step 68000 : 3.39185520542\n",
      "Average loss at step 70000 : 3.35781040388\n",
      "Nearest to system: systems, files, majority, ufos, program, omnivores, pirated, network,\n",
      "Nearest to other: various, different, older, many, hardship, some, cyclopedia, several,\n",
      "Nearest to so: suggests, namek, too, advertisements, fairly, marshallese, stacks, slot,\n",
      "Nearest to between: with, among, through, trio, acrimonious, durians, in, quin,\n",
      "Nearest to as: holy, umayyads, before, curry, sharper, by, owe, alicia,\n",
      "Nearest to over: about, across, silva, stead, concubines, around, brennan, beasts,\n",
      "Nearest to such: these, well, known, many, certain, galway, some, loya,\n",
      "Nearest to its: their, his, the, her, whose, amassing, your, focused,\n",
      "Nearest to but: however, although, while, which, and, that, though, where,\n",
      "Nearest to up: out, off, them, kids, him, down, camelcase, start,\n",
      "Nearest to for: in, of, howstuffworks, including, while, neoplatonist, upc, dao,\n",
      "Nearest to states: nations, kingdom, countries, cryptanalytic, state, exited, prsc, bei,\n",
      "Nearest to has: had, have, is, was, makes, since, inconceivable, yeager,\n",
      "Nearest to would: will, could, may, can, might, should, must, cannot,\n",
      "Nearest to is: was, has, makes, be, are, becomes, courtroom, quartet,\n",
      "Nearest to one: two, seven, six, eight, five, four, nine, three,\n",
      "Average loss at step 72000 : 3.37209277683\n",
      "Average loss at step 74000 : 3.34964529316\n",
      "Average loss at step 76000 : 3.31060279691\n",
      "Average loss at step 78000 : 3.35206176892\n",
      "Average loss at step 80000 : 3.37851509672\n",
      "Nearest to system: systems, files, program, disappeared, gush, network, process, omnivores,\n",
      "Nearest to other: various, many, older, different, several, others, dk, psychological,\n",
      "Nearest to so: slot, stacks, before, fairly, suggests, martov, shed, too,\n",
      "Nearest to between: with, among, within, in, through, repairs, quin, behind,\n",
      "Nearest to as: dsl, keyed, manslaughter, umayyads, joint, kodak, kao, multiplicity,\n",
      "Nearest to over: around, across, about, within, imperfectly, concubines, philosophically, matchup,\n",
      "Nearest to such: well, known, these, certain, follows, loya, unrelated, hiroshi,\n",
      "Nearest to its: their, his, her, the, your, transylvania, whose, focused,\n",
      "Nearest to but: however, although, and, while, which, darshan, he, than,\n",
      "Nearest to up: out, off, down, them, him, lucy, camelcase, back,\n",
      "Nearest to for: consonant, howstuffworks, wulf, upc, bromley, in, rnberg, chianti,\n",
      "Nearest to states: nations, kingdom, countries, state, us, union, rollins, prsc,\n",
      "Nearest to has: had, have, is, was, maintains, inconceivable, yeager, since,\n",
      "Nearest to would: will, could, may, can, must, should, might, cannot,\n",
      "Nearest to is: was, has, are, getty, makes, became, be, becomes,\n",
      "Nearest to one: seven, six, two, eight, three, four, five, nine,\n",
      "Average loss at step 82000 : 3.40488745427\n",
      "Average loss at step 84000 : 3.41129391092\n",
      "Average loss at step 86000 : 3.3912559201\n",
      "Average loss at step 88000 : 3.35092036146\n",
      "Average loss at step 90000 : 3.36410929996\n",
      "Nearest to system: systems, program, disappeared, gertrude, files, text, network, waved,\n",
      "Nearest to other: various, older, dk, different, others, psychological, several, hardship,\n",
      "Nearest to so: suggests, thus, osprey, stacks, before, too, recanted, martov,\n",
      "Nearest to between: with, among, within, through, during, lakatos, repairs, from,\n",
      "Nearest to as: hotspur, umayyads, dsl, instalments, calcio, fuses, starbuck, officio,\n",
      "Nearest to over: around, about, beasts, concubines, across, imperfectly, matchup, eek,\n",
      "Nearest to such: well, known, these, certain, follows, galway, loya, kes,\n",
      "Nearest to its: their, his, her, the, your, whose, amassing, jair,\n",
      "Nearest to but: however, and, although, while, processions, which, nagano, though,\n",
      "Nearest to up: out, off, down, them, back, him, start, camelcase,\n",
      "Nearest to for: mules, wulf, including, of, until, upc, while, without,\n",
      "Nearest to states: nations, kingdom, countries, prsc, us, state, rollins, cranberries,\n",
      "Nearest to has: had, have, is, was, since, having, makes, inconceivable,\n",
      "Nearest to would: will, could, may, can, might, should, must, cannot,\n",
      "Nearest to is: was, has, are, becomes, be, makes, became, although,\n",
      "Nearest to one: seven, two, four, eight, five, three, six, nine,\n",
      "Average loss at step 92000 : 3.40167308575\n",
      "Average loss at step 94000 : 3.25248412305\n",
      "Average loss at step 96000 : 3.36001657408\n",
      "Average loss at step 98000 : 3.23806180987\n",
      "Average loss at step 100000 : 3.35489277756\n",
      "Nearest to system: systems, program, process, files, volts, disappeared, nou, ufos,\n",
      "Nearest to other: various, others, older, different, hispanic, cyclopedia, smaller, machinations,\n",
      "Nearest to so: thus, too, stacks, then, suggests, faster, martov, osprey,\n",
      "Nearest to between: among, with, within, through, in, quin, during, vaughan,\n",
      "Nearest to as: umayyads, holy, calcio, tricked, hotspur, invalidated, declare, ooze,\n",
      "Nearest to over: around, brennan, silva, stepwise, stead, concubines, about, matchup,\n",
      "Nearest to such: known, well, these, certain, follows, unrelated, kes, galway,\n",
      "Nearest to its: their, his, her, the, your, transylvania, jair, amassing,\n",
      "Nearest to but: however, although, and, while, which, though, when, tabby,\n",
      "Nearest to up: out, off, down, them, back, him, start, camelcase,\n",
      "Nearest to for: while, upc, if, without, rabin, when, polypeptides, including,\n",
      "Nearest to states: nations, kingdom, countries, prsc, us, state, cranberries, rollins,\n",
      "Nearest to has: had, have, is, was, since, maintains, having, yeager,\n",
      "Nearest to would: will, could, may, might, can, should, must, cannot,\n",
      "Nearest to is: was, has, became, makes, although, are, refers, aeroflot,\n",
      "Nearest to one: two, four, seven, five, eight, six, nine, three,\n"
     ]
    }
   ],
   "source": [
    "num_steps = 100001\n",
    "\n",
    "with tf.Session(graph=graph) as session:\n",
    "  tf.initialize_all_variables().run()\n",
    "  print \"Initialized\"\n",
    "  average_loss = 0\n",
    "  for step in xrange(num_steps):\n",
    "    batch_data, batch_labels = generate_batch(\n",
    "      batch_size, num_skips, skip_window)\n",
    "    feed_dict = {train_dataset : batch_data, train_labels : batch_labels}\n",
    "    _, l = session.run([optimizer, loss], feed_dict=feed_dict)\n",
    "    average_loss += l\n",
    "    if step % 2000 == 0:\n",
    "      if step > 0:\n",
    "        average_loss = average_loss / 2000\n",
    "      # The average loss is an estimate of the loss over the last 2000 batches.\n",
    "      print \"Average loss at step\", step, \":\", average_loss\n",
    "      average_loss = 0\n",
    "    # note that this is expensive (~20% slowdown if computed every 500 steps)\n",
    "    if step % 10000 == 0:\n",
    "      sim = similarity.eval()\n",
    "      for i in xrange(valid_size):\n",
    "        valid_word = reverse_dictionary[valid_examples[i]]\n",
    "        top_k = 8 # number of nearest neighbors\n",
    "        nearest = (-sim[i, :]).argsort()[1:top_k+1]\n",
    "        log = \"Nearest to %s:\" % valid_word\n",
    "        for k in xrange(top_k):\n",
    "          close_word = reverse_dictionary[nearest[k]]\n",
    "          log = \"%s %s,\" % (log, close_word)\n",
    "        print log\n",
    "  final_embeddings = normalized_embeddings.eval()"
   ]
  },
  {
   "cell_type": "code",
   "execution_count": 10,
   "metadata": {
    "cellView": "both",
    "colab": {
     "autoexec": {
      "startup": false,
      "wait_interval": 0
     }
    },
    "colab_type": "code",
    "collapsed": false,
    "id": "jjJXYA_XzV79"
   },
   "outputs": [],
   "source": [
    "num_points = 400\n",
    "\n",
    "tsne = TSNE(perplexity=30, n_components=2, init='pca', n_iter=5000)\n",
    "two_d_embeddings = tsne.fit_transform(final_embeddings[1:num_points+1, :])"
   ]
  },
  {
   "cell_type": "code",
   "execution_count": 11,
   "metadata": {
    "cellView": "both",
    "colab": {
     "autoexec": {
      "startup": false,
      "wait_interval": 0
     },
     "output_extras": [
      {
       "item_id": 1
      }
     ]
    },
    "colab_type": "code",
    "collapsed": false,
    "executionInfo": {
     "elapsed": 4763,
     "status": "ok",
     "timestamp": 1445965465525,
     "user": {
      "color": "#1FA15D",
      "displayName": "Vincent Vanhoucke",
      "isAnonymous": false,
      "isMe": true,
      "permissionId": "05076109866853157986",
      "photoUrl": "//lh6.googleusercontent.com/-cCJa7dTDcgQ/AAAAAAAAAAI/AAAAAAAACgw/r2EZ_8oYer4/s50-c-k-no/photo.jpg",
      "sessionId": "2f1ffade4c9f20de",
      "userId": "102167687554210253930"
     },
     "user_tz": 420
    },
    "id": "o_e0D_UezcDe",
    "outputId": "df22e4a5-e8ec-4e5e-d384-c6cf37c68c34"
   },
   "outputs": [],
   "source": [
    "def plot(embeddings, labels):\n",
    "  assert embeddings.shape[0] >= len(labels), 'More labels than embeddings'\n",
    "  pylab.figure(figsize=(10, 10))  # in inches\n",
    "  for i, label in enumerate(labels):\n",
    "    x, y = embeddings[i,:]\n",
    "    pylab.scatter(x, y)\n",
    "    pylab.annotate(label, xy=(x, y), xytext=(5, 2), textcoords='offset points',\n",
    "                   ha='right', va='bottom')\n",
    "  pylab.show()\n",
    "\n",
    "words = [reverse_dictionary[i] for i in xrange(1, num_points+1)]\n",
    "plot(two_d_embeddings, words)"
   ]
  },
  {
   "cell_type": "markdown",
   "metadata": {
    "colab_type": "text",
    "id": "QB5EFrBnpNnc"
   },
   "source": [
    "---\n",
    "\n",
    "Problem\n",
    "-------\n",
    "\n",
    "An alternative to Word2Vec is called [CBOW](http://arxiv.org/abs/1301.3781) (Continuous Bag of Words). In the CBOW model, instead of predicting a context word from a word vector, you predict a word from the sum of all the word vectors in its context. Implement and evaluate a CBOW model trained on the text8 dataset.\n",
    "\n",
    "---"
   ]
  }
 ],
 "metadata": {
  "colab": {
   "default_view": {},
   "name": "5_word2vec.ipynb",
   "version": "0.3.2",
   "views": {}
  },
  "kernelspec": {
   "display_name": "Python 2",
   "language": "python",
   "name": "python2"
  },
  "language_info": {
   "codemirror_mode": {
    "name": "ipython",
    "version": 2
   },
   "file_extension": ".py",
   "mimetype": "text/x-python",
   "name": "python",
   "nbconvert_exporter": "python",
   "pygments_lexer": "ipython2",
   "version": "2.7.10"
  }
 },
 "nbformat": 4,
 "nbformat_minor": 0
}
